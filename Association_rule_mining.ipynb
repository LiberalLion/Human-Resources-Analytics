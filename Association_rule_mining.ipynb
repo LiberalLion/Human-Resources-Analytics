{
 "cells": [
  {
   "cell_type": "code",
   "execution_count": 16,
   "metadata": {
    "collapsed": false
   },
   "outputs": [],
   "source": [
    "#Assiociation rule mining\n",
    "\n",
    "import re\n",
    "import Orange\n",
    "import pandas as pd\n",
    "from pandas import DataFrame\n",
    "import math\n",
    "from Orange.data import Table\n",
    "\n",
    "data = pd.read_csv(r'C:/Users/---/HR_comma_sep.csv') #import file\n",
    "#transform file to orange dataframe\n",
    "\n",
    "word = re.compile(\"\\w+\")\n",
    "\n",
    "s = ''\n",
    "for i in range(len(data)):\n",
    "    s = s + str(data.left[i])+ ' ' +str(data.last_evaluation[i])+ ' ' +str(data.number_project[i])+ ' ' +str(data.average_montly_hours[i])+ ' '+str(data.time_spend_company[i])+ ' ' +str(data.Work_accident[i])+ ' ' +str(data.satisfaction_level[i])+ ' ' +str(data.salary[i])+'\\n'\n",
    "\n",
    "all_items = set(word.findall(s))\n",
    "domain = Orange.data.Domain([])\n",
    "domain.add_metas({Orange.orange.newmetaid(): Orange.feature.Continuous(n)\n",
    "                  for n in all_items}, True)\n",
    "\n",
    "data = Orange.data.Table(domain)\n",
    "for e in s.splitlines():\n",
    "    ex = Orange.data.Instance(domain)\n",
    "    for m in re.findall(\"\\w+\", e):\n",
    "        ex[m] = 1\n",
    "    data.append(ex)\n",
    "    "
   ]
  },
  {
   "cell_type": "code",
   "execution_count": 18,
   "metadata": {
    "collapsed": false
   },
   "outputs": [],
   "source": [
    "#create association rules with min support = 0.01(some case are rare but important with high lift)\n",
    "rules = Orange.associate.AssociationRulesSparseInducer(data, support = 0.01)                             \n",
    "all_confi = []\n",
    "cosine_val = []\n",
    "#store the measurement and rules\n",
    "for i, r in enumerate(rules):\n",
    "    all_confi.append(r.n_applies_both/max(r.n_applies_left, r.n_applies_right))\n",
    "    cosine_val.append(r.n_applies_both/math.sqrt(r.n_applies_left*r.n_applies_right))\n",
    "    \n",
    "con_lift = pd.DataFrame(\n",
    "    { \"support\":[r.support for r in rules ],\n",
    "     \"confidence\" :[r.confidence for r in rules ],\n",
    "     \"lift\" :[r.lift for r in rules ],\n",
    "     \"rule\" :[r for r in rules ],\n",
    "     \"all_confi\" :[i for i in all_confi],\n",
    "     \"cosine_val\" :[i for i in cosine_val]\n",
    "\n",
    "    })\n",
    "#rearrange the sequence of the dataframe.    \n",
    "con_lift = con_lift[['support', 'confidence', 'lift', 'all_confi', 'cosine_val', 'rule']]\n",
    "#transform to dataframe to sort the value\n",
    "con_lift = DataFrame(con_lift)   \n",
    "con_lift = con_lift.sort_values(by=['all_confi'], ascending=[False])"
   ]
  },
  {
   "cell_type": "code",
   "execution_count": 19,
   "metadata": {
    "collapsed": false
   },
   "outputs": [
    {
     "data": {
      "text/html": [
       "<div>\n",
       "<table border=\"1\" class=\"dataframe\">\n",
       "  <thead>\n",
       "    <tr style=\"text-align: right;\">\n",
       "      <th></th>\n",
       "      <th>support</th>\n",
       "      <th>confidence</th>\n",
       "      <th>lift</th>\n",
       "      <th>all_confi</th>\n",
       "      <th>cosine_val</th>\n",
       "      <th>rule</th>\n",
       "    </tr>\n",
       "  </thead>\n",
       "  <tbody>\n",
       "    <tr>\n",
       "      <th>5958</th>\n",
       "      <td>0.582239</td>\n",
       "      <td>1.000000</td>\n",
       "      <td>1.000000</td>\n",
       "      <td>0.582239</td>\n",
       "      <td>0.763046</td>\n",
       "      <td>3 -&gt; 0</td>\n",
       "    </tr>\n",
       "    <tr>\n",
       "      <th>5959</th>\n",
       "      <td>0.582239</td>\n",
       "      <td>0.582239</td>\n",
       "      <td>1.000000</td>\n",
       "      <td>0.582239</td>\n",
       "      <td>0.763046</td>\n",
       "      <td>0 -&gt; 3</td>\n",
       "    </tr>\n",
       "    <tr>\n",
       "      <th>5251</th>\n",
       "      <td>0.487766</td>\n",
       "      <td>0.487766</td>\n",
       "      <td>1.000000</td>\n",
       "      <td>0.487766</td>\n",
       "      <td>0.698402</td>\n",
       "      <td>0 -&gt; low</td>\n",
       "    </tr>\n",
       "    <tr>\n",
       "      <th>5250</th>\n",
       "      <td>0.487766</td>\n",
       "      <td>1.000000</td>\n",
       "      <td>1.000000</td>\n",
       "      <td>0.487766</td>\n",
       "      <td>0.698402</td>\n",
       "      <td>low -&gt; 0</td>\n",
       "    </tr>\n",
       "    <tr>\n",
       "      <th>4907</th>\n",
       "      <td>0.281819</td>\n",
       "      <td>0.484026</td>\n",
       "      <td>0.992333</td>\n",
       "      <td>0.484026</td>\n",
       "      <td>0.528827</td>\n",
       "      <td>3 -&gt; low</td>\n",
       "    </tr>\n",
       "  </tbody>\n",
       "</table>\n",
       "</div>"
      ],
      "text/plain": [
       "       support  confidence      lift  all_confi  cosine_val      rule\n",
       "5958  0.582239    1.000000  1.000000   0.582239    0.763046    3 -> 0\n",
       "5959  0.582239    0.582239  1.000000   0.582239    0.763046    0 -> 3\n",
       "5251  0.487766    0.487766  1.000000   0.487766    0.698402  0 -> low\n",
       "5250  0.487766    1.000000  1.000000   0.487766    0.698402  low -> 0\n",
       "4907  0.281819    0.484026  0.992333   0.484026    0.528827  3 -> low"
      ]
     },
     "execution_count": 19,
     "metadata": {},
     "output_type": "execute_result"
    }
   ],
   "source": [
    "con_lift.head()"
   ]
  },
  {
   "cell_type": "code",
   "execution_count": 20,
   "metadata": {
    "collapsed": false
   },
   "outputs": [
    {
     "data": {
      "text/html": [
       "<div>\n",
       "<table border=\"1\" class=\"dataframe\">\n",
       "  <thead>\n",
       "    <tr style=\"text-align: right;\">\n",
       "      <th></th>\n",
       "      <th>support</th>\n",
       "      <th>confidence</th>\n",
       "      <th>lift</th>\n",
       "      <th>all_confi</th>\n",
       "      <th>cosine_val</th>\n",
       "    </tr>\n",
       "  </thead>\n",
       "  <tbody>\n",
       "    <tr>\n",
       "      <th>count</th>\n",
       "      <td>6222.000000</td>\n",
       "      <td>6222.000000</td>\n",
       "      <td>6222.000000</td>\n",
       "      <td>6222.000000</td>\n",
       "      <td>6222.000000</td>\n",
       "    </tr>\n",
       "    <tr>\n",
       "      <th>mean</th>\n",
       "      <td>0.024163</td>\n",
       "      <td>0.326541</td>\n",
       "      <td>1.438664</td>\n",
       "      <td>0.057672</td>\n",
       "      <td>0.156521</td>\n",
       "    </tr>\n",
       "    <tr>\n",
       "      <th>std</th>\n",
       "      <td>0.035442</td>\n",
       "      <td>0.335261</td>\n",
       "      <td>1.199043</td>\n",
       "      <td>0.066418</td>\n",
       "      <td>0.074567</td>\n",
       "    </tr>\n",
       "    <tr>\n",
       "      <th>min</th>\n",
       "      <td>0.010067</td>\n",
       "      <td>0.010067</td>\n",
       "      <td>0.141580</td>\n",
       "      <td>0.010067</td>\n",
       "      <td>0.042903</td>\n",
       "    </tr>\n",
       "    <tr>\n",
       "      <th>25%</th>\n",
       "      <td>0.011467</td>\n",
       "      <td>0.033354</td>\n",
       "      <td>0.981210</td>\n",
       "      <td>0.026027</td>\n",
       "      <td>0.113823</td>\n",
       "    </tr>\n",
       "    <tr>\n",
       "      <th>50%</th>\n",
       "      <td>0.014001</td>\n",
       "      <td>0.182271</td>\n",
       "      <td>1.034814</td>\n",
       "      <td>0.033354</td>\n",
       "      <td>0.129792</td>\n",
       "    </tr>\n",
       "    <tr>\n",
       "      <th>75%</th>\n",
       "      <td>0.018068</td>\n",
       "      <td>0.517147</td>\n",
       "      <td>1.418811</td>\n",
       "      <td>0.060027</td>\n",
       "      <td>0.174126</td>\n",
       "    </tr>\n",
       "    <tr>\n",
       "      <th>max</th>\n",
       "      <td>0.582239</td>\n",
       "      <td>1.000000</td>\n",
       "      <td>13.623914</td>\n",
       "      <td>0.582239</td>\n",
       "      <td>0.763046</td>\n",
       "    </tr>\n",
       "  </tbody>\n",
       "</table>\n",
       "</div>"
      ],
      "text/plain": [
       "           support   confidence         lift    all_confi   cosine_val\n",
       "count  6222.000000  6222.000000  6222.000000  6222.000000  6222.000000\n",
       "mean      0.024163     0.326541     1.438664     0.057672     0.156521\n",
       "std       0.035442     0.335261     1.199043     0.066418     0.074567\n",
       "min       0.010067     0.010067     0.141580     0.010067     0.042903\n",
       "25%       0.011467     0.033354     0.981210     0.026027     0.113823\n",
       "50%       0.014001     0.182271     1.034814     0.033354     0.129792\n",
       "75%       0.018068     0.517147     1.418811     0.060027     0.174126\n",
       "max       0.582239     1.000000    13.623914     0.582239     0.763046"
      ]
     },
     "execution_count": 20,
     "metadata": {},
     "output_type": "execute_result"
    }
   ],
   "source": [
    "con_lift.describe()"
   ]
  },
  {
   "cell_type": "code",
   "execution_count": 27,
   "metadata": {
    "collapsed": false
   },
   "outputs": [
    {
     "ename": "AttributeError",
     "evalue": "'Orange.data.Table' has no attribute 'view'",
     "output_type": "error",
     "traceback": [
      "\u001b[0;31m---------------------------------------------------------------------------\u001b[0m",
      "\u001b[0;31mAttributeError\u001b[0m                            Traceback (most recent call last)",
      "\u001b[0;32m<ipython-input-27-c0ef2587bbbe>\u001b[0m in \u001b[0;36m<module>\u001b[0;34m()\u001b[0m\n\u001b[0;32m----> 1\u001b[0;31m \u001b[0mdata\u001b[0m\u001b[1;33m.\u001b[0m\u001b[0mview\u001b[0m\u001b[1;33m(\u001b[0m\u001b[1;33m)\u001b[0m\u001b[1;33m\u001b[0m\u001b[0m\n\u001b[0m",
      "\u001b[0;31mAttributeError\u001b[0m: 'Orange.data.Table' has no attribute 'view'"
     ]
    }
   ],
   "source": [
    "data.view()"
   ]
  },
  {
   "cell_type": "code",
   "execution_count": 30,
   "metadata": {
    "collapsed": false
   },
   "outputs": [
    {
     "data": {
      "text/plain": [
       "['1', 0.86, '5', 262, 6, '0', 0.80, '0', 'sales', 'medium']"
      ]
     },
     "execution_count": 30,
     "metadata": {},
     "output_type": "execute_result"
    }
   ],
   "source": [
    "data[1]"
   ]
  },
  {
   "cell_type": "code",
   "execution_count": null,
   "metadata": {
    "collapsed": true
   },
   "outputs": [],
   "source": []
  }
 ],
 "metadata": {
  "kernelspec": {
   "display_name": "Python 2",
   "language": "python",
   "name": "python2"
  },
  "language_info": {
   "codemirror_mode": {
    "name": "ipython",
    "version": 2
   },
   "file_extension": ".py",
   "mimetype": "text/x-python",
   "name": "python",
   "nbconvert_exporter": "python",
   "pygments_lexer": "ipython2",
   "version": "2.7.13"
  }
 },
 "nbformat": 4,
 "nbformat_minor": 2
}
